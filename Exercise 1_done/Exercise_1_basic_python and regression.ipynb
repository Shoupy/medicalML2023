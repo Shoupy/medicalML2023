{
 "cells": [
  {
   "cell_type": "markdown",
   "metadata": {},
   "source": [
    "D12k48007劉任軒"
   ]
  },
  {
   "cell_type": "markdown",
   "metadata": {
    "pycharm": {
     "name": "#%% md\n"
    }
   },
   "source": [
    "# Programming Exercise 0: Basic Python and Linear Regression\n",
    "\n",
    "## 0.1 Basic Python: pandas, numpy and matplotlib\n",
    "\n",
    "Excerpted and modified from Python Machine Learning (Sebastian Raschka, 2019)"
   ]
  },
  {
   "cell_type": "code",
   "execution_count": 1,
   "metadata": {
    "pycharm": {
     "name": "#%%\n"
    }
   },
   "outputs": [],
   "source": [
    "import numpy as np\n",
    "import os\n",
    "import pandas as pd\n",
    "from collections import Counter\n",
    "# root = 'Exercise 1/'"
   ]
  },
  {
   "cell_type": "markdown",
   "metadata": {
    "pycharm": {
     "name": "#%% md\n"
    }
   },
   "source": [
    "Let's start practicing python by playing with some data. We will load a dataset (Iris) using the data handling package, pandas. We can then look at the information about the data by print it out (or by df.head(), df.tail())"
   ]
  },
  {
   "cell_type": "markdown",
   "metadata": {},
   "source": [
    "Counter可以快速地數出不同元素的數量"
   ]
  },
  {
   "cell_type": "code",
   "execution_count": 2,
   "metadata": {
    "pycharm": {
     "name": "#%%\n"
    },
    "scrolled": true
   },
   "outputs": [
    {
     "name": "stdout",
     "output_type": "stream",
     "text": [
      "   sepal.length  sepal.width  petal.length  petal.width variety\n",
      "0           5.1          3.5           1.4          0.2  Setosa\n",
      "1           4.9          3.0           1.4          0.2  Setosa\n",
      "2           4.7          3.2           1.3          0.2  Setosa\n",
      "3           4.6          3.1           1.5          0.2  Setosa\n",
      "4           5.0          3.6           1.4          0.2  Setosa\n",
      "Print Variety:\n"
     ]
    },
    {
     "data": {
      "text/plain": [
       "Counter({'Setosa': 50, 'Versicolor': 50, 'Virginica': 50})"
      ]
     },
     "execution_count": 2,
     "metadata": {},
     "output_type": "execute_result"
    }
   ],
   "source": [
    "df = pd.read_csv('iris.csv', header=0, encoding='utf-8')\n",
    "print(df.head())\n",
    "print('Print Variety:')\n",
    "Counter(df['variety'])"
   ]
  },
  {
   "cell_type": "markdown",
   "metadata": {
    "pycharm": {
     "name": "#%% md\n"
    }
   },
   "source": [
    "Let's practice some basic data processing using slicing and plot the data using matplotlib, the plotting package"
   ]
  },
  {
   "cell_type": "code",
   "execution_count": 3,
   "metadata": {
    "jupyter": {
     "outputs_hidden": false
    },
    "pycharm": {
     "name": "#%%\n"
    }
   },
   "outputs": [
    {
     "data": {
      "image/png": "[encoded data removed]",
      "text/plain": [
       "<Figure size 432x288 with 1 Axes>"
      ]
     },
     "metadata": {
      "needs_background": "light"
     },
     "output_type": "display_data"
    }
   ],
   "source": [
    "%matplotlib inline\n",
    "import matplotlib.pyplot as plt\n",
    "import numpy as np\n",
    "\n",
    "# select setosa and versicolor\n",
    "#選取資料表的最後一欄(花的種類)，只選取前100個(setosa and Versicolor)\n",
    "y = df.iloc[0:100, 4].values    \n",
    "y = np.where(y == 'Iris-setosa', -1, 1)  #把y轉換為 1 / -1\n",
    "\n",
    "# extract sepal length and petal length\n",
    "# 選取資料表的前兩欄\n",
    "X = df.iloc[0:100, [0, 2]].values\n",
    "\n",
    "# plot data\n",
    "plt.scatter(X[:50, 0], X[:50, 1], color='red', marker='o', label='setosa')\n",
    "plt.scatter(X[50:100, 0], X[50:100, 1],\n",
    "            color='blue', marker='x', label='versicolor')\n",
    "\n",
    "plt.xlabel('sepal length [cm]')\n",
    "plt.ylabel('petal length [cm]')\n",
    "plt.legend(loc='upper left')\n",
    "\n",
    "plt.show()"
   ]
  },
  {
   "cell_type": "markdown",
   "metadata": {
    "pycharm": {
     "name": "#%% md\n"
    }
   },
   "source": [
    "Let's try to do a simple linear regression by using the LinearRegression model from sklearn, the module for python machine learning. We will start with a simple single variable regression, where X (feature) = petal.width and Y (target) = petal.length"
   ]
  },
  {
   "cell_type": "code",
   "execution_count": 4,
   "metadata": {},
   "outputs": [
    {
     "data": {
      "text/html": [
       "<div>\n",
       "<style scoped>\n",
       "    .dataframe tbody tr th:only-of-type {\n",
       "        vertical-align: middle;\n",
       "    }\n",
       "\n",
       "    .dataframe tbody tr th {\n",
       "        vertical-align: top;\n",
       "    }\n",
       "\n",
       "    .dataframe thead th {\n",
       "        text-align: right;\n",
       "    }\n",
       "</style>\n",
       "<table border=\"1\" class=\"dataframe\">\n",
       "  <thead>\n",
       "    <tr style=\"text-align: right;\">\n",
       "      <th></th>\n",
       "      <th>sepal.length</th>\n",
       "      <th>sepal.width</th>\n",
       "      <th>petal.length</th>\n",
       "      <th>petal.width</th>\n",
       "      <th>variety</th>\n",
       "    </tr>\n",
       "  </thead>\n",
       "  <tbody>\n",
       "    <tr>\n",
       "      <th>0</th>\n",
       "      <td>5.1</td>\n",
       "      <td>3.5</td>\n",
       "      <td>1.4</td>\n",
       "      <td>0.2</td>\n",
       "      <td>Setosa</td>\n",
       "    </tr>\n",
       "    <tr>\n",
       "      <th>1</th>\n",
       "      <td>4.9</td>\n",
       "      <td>3.0</td>\n",
       "      <td>1.4</td>\n",
       "      <td>0.2</td>\n",
       "      <td>Setosa</td>\n",
       "    </tr>\n",
       "    <tr>\n",
       "      <th>2</th>\n",
       "      <td>4.7</td>\n",
       "      <td>3.2</td>\n",
       "      <td>1.3</td>\n",
       "      <td>0.2</td>\n",
       "      <td>Setosa</td>\n",
       "    </tr>\n",
       "    <tr>\n",
       "      <th>3</th>\n",
       "      <td>4.6</td>\n",
       "      <td>3.1</td>\n",
       "      <td>1.5</td>\n",
       "      <td>0.2</td>\n",
       "      <td>Setosa</td>\n",
       "    </tr>\n",
       "    <tr>\n",
       "      <th>4</th>\n",
       "      <td>5.0</td>\n",
       "      <td>3.6</td>\n",
       "      <td>1.4</td>\n",
       "      <td>0.2</td>\n",
       "      <td>Setosa</td>\n",
       "    </tr>\n",
       "    <tr>\n",
       "      <th>...</th>\n",
       "      <td>...</td>\n",
       "      <td>...</td>\n",
       "      <td>...</td>\n",
       "      <td>...</td>\n",
       "      <td>...</td>\n",
       "    </tr>\n",
       "    <tr>\n",
       "      <th>145</th>\n",
       "      <td>6.7</td>\n",
       "      <td>3.0</td>\n",
       "      <td>5.2</td>\n",
       "      <td>2.3</td>\n",
       "      <td>Virginica</td>\n",
       "    </tr>\n",
       "    <tr>\n",
       "      <th>146</th>\n",
       "      <td>6.3</td>\n",
       "      <td>2.5</td>\n",
       "      <td>5.0</td>\n",
       "      <td>1.9</td>\n",
       "      <td>Virginica</td>\n",
       "    </tr>\n",
       "    <tr>\n",
       "      <th>147</th>\n",
       "      <td>6.5</td>\n",
       "      <td>3.0</td>\n",
       "      <td>5.2</td>\n",
       "      <td>2.0</td>\n",
       "      <td>Virginica</td>\n",
       "    </tr>\n",
       "    <tr>\n",
       "      <th>148</th>\n",
       "      <td>6.2</td>\n",
       "      <td>3.4</td>\n",
       "      <td>5.4</td>\n",
       "      <td>2.3</td>\n",
       "      <td>Virginica</td>\n",
       "    </tr>\n",
       "    <tr>\n",
       "      <th>149</th>\n",
       "      <td>5.9</td>\n",
       "      <td>3.0</td>\n",
       "      <td>5.1</td>\n",
       "      <td>1.8</td>\n",
       "      <td>Virginica</td>\n",
       "    </tr>\n",
       "  </tbody>\n",
       "</table>\n",
       "<p>150 rows × 5 columns</p>\n",
       "</div>"
      ],
      "text/plain": [
       "     sepal.length  sepal.width  petal.length  petal.width    variety\n",
       "0             5.1          3.5           1.4          0.2     Setosa\n",
       "1             4.9          3.0           1.4          0.2     Setosa\n",
       "2             4.7          3.2           1.3          0.2     Setosa\n",
       "3             4.6          3.1           1.5          0.2     Setosa\n",
       "4             5.0          3.6           1.4          0.2     Setosa\n",
       "..            ...          ...           ...          ...        ...\n",
       "145           6.7          3.0           5.2          2.3  Virginica\n",
       "146           6.3          2.5           5.0          1.9  Virginica\n",
       "147           6.5          3.0           5.2          2.0  Virginica\n",
       "148           6.2          3.4           5.4          2.3  Virginica\n",
       "149           5.9          3.0           5.1          1.8  Virginica\n",
       "\n",
       "[150 rows x 5 columns]"
      ]
     },
     "execution_count": 4,
     "metadata": {},
     "output_type": "execute_result"
    }
   ],
   "source": [
    "df"
   ]
  },
  {
   "cell_type": "code",
   "execution_count": 17,
   "metadata": {},
   "outputs": [
    {
     "data": {
      "text/plain": [
       "array([[[0.2]],\n",
       "\n",
       "       [[0.2]],\n",
       "\n",
       "       [[0.2]],\n",
       "\n",
       "       [[0.2]],\n",
       "\n",
       "       [[0.2]],\n",
       "\n",
       "       [[0.4]],\n",
       "\n",
       "       [[0.3]],\n",
       "\n",
       "       [[0.2]],\n",
       "\n",
       "       [[0.2]],\n",
       "\n",
       "       [[0.1]],\n",
       "\n",
       "       [[0.2]],\n",
       "\n",
       "       [[0.2]],\n",
       "\n",
       "       [[0.1]],\n",
       "\n",
       "       [[0.1]],\n",
       "\n",
       "       [[0.2]],\n",
       "\n",
       "       [[0.4]],\n",
       "\n",
       "       [[0.4]],\n",
       "\n",
       "       [[0.3]],\n",
       "\n",
       "       [[0.3]],\n",
       "\n",
       "       [[0.3]],\n",
       "\n",
       "       [[0.2]],\n",
       "\n",
       "       [[0.4]],\n",
       "\n",
       "       [[0.2]],\n",
       "\n",
       "       [[0.5]],\n",
       "\n",
       "       [[0.2]],\n",
       "\n",
       "       [[0.2]],\n",
       "\n",
       "       [[0.4]],\n",
       "\n",
       "       [[0.2]],\n",
       "\n",
       "       [[0.2]],\n",
       "\n",
       "       [[0.2]],\n",
       "\n",
       "       [[0.2]],\n",
       "\n",
       "       [[0.4]],\n",
       "\n",
       "       [[0.1]],\n",
       "\n",
       "       [[0.2]],\n",
       "\n",
       "       [[0.2]],\n",
       "\n",
       "       [[0.2]],\n",
       "\n",
       "       [[0.2]],\n",
       "\n",
       "       [[0.1]],\n",
       "\n",
       "       [[0.2]],\n",
       "\n",
       "       [[0.2]],\n",
       "\n",
       "       [[0.3]],\n",
       "\n",
       "       [[0.3]],\n",
       "\n",
       "       [[0.2]],\n",
       "\n",
       "       [[0.6]],\n",
       "\n",
       "       [[0.4]],\n",
       "\n",
       "       [[0.3]],\n",
       "\n",
       "       [[0.2]],\n",
       "\n",
       "       [[0.2]],\n",
       "\n",
       "       [[0.2]],\n",
       "\n",
       "       [[0.2]],\n",
       "\n",
       "       [[1.4]],\n",
       "\n",
       "       [[1.5]],\n",
       "\n",
       "       [[1.5]],\n",
       "\n",
       "       [[1.3]],\n",
       "\n",
       "       [[1.5]],\n",
       "\n",
       "       [[1.3]],\n",
       "\n",
       "       [[1.6]],\n",
       "\n",
       "       [[1. ]],\n",
       "\n",
       "       [[1.3]],\n",
       "\n",
       "       [[1.4]],\n",
       "\n",
       "       [[1. ]],\n",
       "\n",
       "       [[1.5]],\n",
       "\n",
       "       [[1. ]],\n",
       "\n",
       "       [[1.4]],\n",
       "\n",
       "       [[1.3]],\n",
       "\n",
       "       [[1.4]],\n",
       "\n",
       "       [[1.5]],\n",
       "\n",
       "       [[1. ]],\n",
       "\n",
       "       [[1.5]],\n",
       "\n",
       "       [[1.1]],\n",
       "\n",
       "       [[1.8]],\n",
       "\n",
       "       [[1.3]],\n",
       "\n",
       "       [[1.5]],\n",
       "\n",
       "       [[1.2]],\n",
       "\n",
       "       [[1.3]],\n",
       "\n",
       "       [[1.4]],\n",
       "\n",
       "       [[1.4]],\n",
       "\n",
       "       [[1.7]],\n",
       "\n",
       "       [[1.5]],\n",
       "\n",
       "       [[1. ]],\n",
       "\n",
       "       [[1.1]],\n",
       "\n",
       "       [[1. ]],\n",
       "\n",
       "       [[1.2]],\n",
       "\n",
       "       [[1.6]],\n",
       "\n",
       "       [[1.5]],\n",
       "\n",
       "       [[1.6]],\n",
       "\n",
       "       [[1.5]],\n",
       "\n",
       "       [[1.3]],\n",
       "\n",
       "       [[1.3]],\n",
       "\n",
       "       [[1.3]],\n",
       "\n",
       "       [[1.2]],\n",
       "\n",
       "       [[1.4]],\n",
       "\n",
       "       [[1.2]],\n",
       "\n",
       "       [[1. ]],\n",
       "\n",
       "       [[1.3]],\n",
       "\n",
       "       [[1.2]],\n",
       "\n",
       "       [[1.3]],\n",
       "\n",
       "       [[1.3]],\n",
       "\n",
       "       [[1.1]],\n",
       "\n",
       "       [[1.3]],\n",
       "\n",
       "       [[2.5]],\n",
       "\n",
       "       [[1.9]],\n",
       "\n",
       "       [[2.1]],\n",
       "\n",
       "       [[1.8]],\n",
       "\n",
       "       [[2.2]],\n",
       "\n",
       "       [[2.1]],\n",
       "\n",
       "       [[1.7]],\n",
       "\n",
       "       [[1.8]],\n",
       "\n",
       "       [[1.8]],\n",
       "\n",
       "       [[2.5]],\n",
       "\n",
       "       [[2. ]],\n",
       "\n",
       "       [[1.9]],\n",
       "\n",
       "       [[2.1]],\n",
       "\n",
       "       [[2. ]],\n",
       "\n",
       "       [[2.4]],\n",
       "\n",
       "       [[2.3]],\n",
       "\n",
       "       [[1.8]],\n",
       "\n",
       "       [[2.2]],\n",
       "\n",
       "       [[2.3]],\n",
       "\n",
       "       [[1.5]],\n",
       "\n",
       "       [[2.3]],\n",
       "\n",
       "       [[2. ]],\n",
       "\n",
       "       [[2. ]],\n",
       "\n",
       "       [[1.8]],\n",
       "\n",
       "       [[2.1]],\n",
       "\n",
       "       [[1.8]],\n",
       "\n",
       "       [[1.8]],\n",
       "\n",
       "       [[1.8]],\n",
       "\n",
       "       [[2.1]],\n",
       "\n",
       "       [[1.6]],\n",
       "\n",
       "       [[1.9]],\n",
       "\n",
       "       [[2. ]],\n",
       "\n",
       "       [[2.2]],\n",
       "\n",
       "       [[1.5]],\n",
       "\n",
       "       [[1.4]],\n",
       "\n",
       "       [[2.3]],\n",
       "\n",
       "       [[2.4]],\n",
       "\n",
       "       [[1.8]],\n",
       "\n",
       "       [[1.8]],\n",
       "\n",
       "       [[2.1]],\n",
       "\n",
       "       [[2.4]],\n",
       "\n",
       "       [[2.3]],\n",
       "\n",
       "       [[1.9]],\n",
       "\n",
       "       [[2.3]],\n",
       "\n",
       "       [[2.5]],\n",
       "\n",
       "       [[2.3]],\n",
       "\n",
       "       [[1.9]],\n",
       "\n",
       "       [[2. ]],\n",
       "\n",
       "       [[2.3]],\n",
       "\n",
       "       [[1.8]]])"
      ]
     },
     "execution_count": 17,
     "metadata": {},
     "output_type": "execute_result"
    }
   ],
   "source": [
    "X = df['petal.width'].values\n",
    "np.expand_dims(np.expand_dims(X,1),1)"
   ]
  },
  {
   "cell_type": "code",
   "execution_count": 18,
   "metadata": {
    "jupyter": {
     "outputs_hidden": false
    },
    "pycharm": {
     "name": "#%%\n"
    }
   },
   "outputs": [
    {
     "data": {
      "image/png": "[encoded data removed]",
      "text/plain": [
       "<Figure size 432x288 with 1 Axes>"
      ]
     },
     "metadata": {
      "needs_background": "light"
     },
     "output_type": "display_data"
    }
   ],
   "source": [
    "from sklearn.model_selection import train_test_split\n",
    "from sklearn.linear_model import LinearRegression\n",
    "### NOT USING\n",
    "#建立一個dictionary去轉換花的variety變成0,1,2#\n",
    "#將這個dictionary的查詢結果直接轉換成list (np array)#\n",
    "string_to_categorical = {'Setosa': 0, 'Versicolor': 1, 'Virginica': 2}\n",
    "X = np.array([string_to_categorical[x] for x in list(df['variety'].values)])\n",
    "###\n",
    "\n",
    "# Variables\n",
    "# 迴歸：X 為花瓣寬度   Y為花瓣長度\n",
    "X = df['petal.width'].values\n",
    "y = df['petal.length'].values\n",
    "\n",
    "# Splitting the Dataset \n",
    "X_train, X_test, y_train, y_test = train_test_split(X, y, test_size= 0.33, random_state= 101)\n",
    "\n",
    "# Instantiating LinearRegression() Model\n",
    "lr = LinearRegression()\n",
    "\n",
    "# Training/Fitting the Model\n",
    "lr.fit(np.expand_dims(X_train, 1), y_train) \n",
    "###因為這邊的X_train只有一個維度，藥用expand_dims，在外面多包一層才不會錯誤。\n",
    "\n",
    "# Making Predictions\n",
    "pred = lr.predict(np.expand_dims(X_test, 1))\n",
    "\n",
    "# Let's define a model to plot the Result\n",
    "def plot_regression(X_train, y_train, X_test, y_test, pred, color):\n",
    "    plt.scatter(X_train, y_train, color='red', marker='o', label='train')\n",
    "    plt.scatter(X_test, y_test, color='blue', marker='o', label='test_truth')\n",
    "    plt.plot(X_test, pred, color=color, label='test_pred')\n",
    "    plt.legend()\n",
    "    plt.show()\n",
    "\n",
    "plot_regression(X_train, y_train, X_test, y_test, pred, color='black')\n"
   ]
  },
  {
   "cell_type": "markdown",
   "metadata": {
    "pycharm": {
     "name": "#%% md\n"
    }
   },
   "source": [
    "In the previous section we use the .predict method of the regression model (lr) to get the testing prediction (pred). The linear regression model can be written as pred = a * X + b. Can you calculate the pred value explicitly?"
   ]
  },
  {
   "cell_type": "code",
   "execution_count": 10,
   "metadata": {
    "jupyter": {
     "outputs_hidden": false
    },
    "pycharm": {
     "name": "#%%\n"
    }
   },
   "outputs": [
    {
     "name": "stdout",
     "output_type": "stream",
     "text": [
      "found slope: [2.19027192]\n",
      "found intercept: 1.1212488014589304\n"
     ]
    },
    {
     "data": {
      "image/png": "[encoded data removed]",
      "text/plain": [
       "<Figure size 432x288 with 1 Axes>"
      ]
     },
     "metadata": {
      "needs_background": "light"
     },
     "output_type": "display_data"
    }
   ],
   "source": [
    "a = lr.coef_\n",
    "b = lr.intercept_\n",
    "print('found slope: ' + str(a))\n",
    "print('found intercept: ' + str(b))\n",
    "\n",
    "# ====================== YOUR CODE HERE =====================\n",
    "###直接取用上面以找出的係數的話，只要套用 係數*X + intercept\n",
    "###即ax+b --> 就算出和上面模型預測一魔一樣的結果\n",
    "pred_manually = a*X_test + b\n",
    "# ====================== YOUR CODE HERE =====================\n",
    "\n",
    "plot_regression(X_train, y_train, X_test, y_test, pred_manually, color='green')"
   ]
  },
  {
   "cell_type": "markdown",
   "metadata": {
    "pycharm": {
     "name": "#%% md\n"
    }
   },
   "source": [
    "## 0.2 Optimize a Linear Regression Model\n",
    "Previously, we utilized the linear regression model in scikit-learn (from sklearn.linear_model import LinearRegression) directly. Although you can call most of the machine learning model from python packages, it is important to know how them work behind the scene and code it up\n",
    "self once in a while (that's why we have a course!). Now Let's try to do a simple linear regression by hand. The first step is to provide a lost function.\n",
    "\n",
    "Remember the objective of linear regression is to minimize the cost function  (也就是 the loss function?)\n",
    "\n",
    "$$ J(\\theta) = \\frac{1}{2m} \\sum_{i=1}^m \\left( h_{\\theta}(x^{(i)}) - y^{(i)}\\right)^2$$\n",
    "\n",
    "where the hypothesis $h_\\theta(x)$ is given by the linear model\n",
    "$$ h_\\theta(x) = \\theta^Tx = \\theta_0 + \\theta_1 x_1$$\n",
    "\n",
    "Now, we are doing a simple one variable regression, so the only feature $(x_1)$ should just be X, while we have two parameters, $\\theta_0$ for the intercept and $\\theta_1$ for the slope. We put them together in a array (theta = [$\\theta_0$, $\\theta_1$]), so $\\theta_0$ = theta[0] and $\\theta_1$ = theta[1]"
   ]
  },
  {
   "cell_type": "code",
   "execution_count": 23,
   "metadata": {},
   "outputs": [],
   "source": [
    "theta = [1, 0]"
   ]
  },
  {
   "cell_type": "code",
   "execution_count": 34,
   "metadata": {
    "jupyter": {
     "outputs_hidden": false
    },
    "pycharm": {
     "name": "#%%\n"
    }
   },
   "outputs": [],
   "source": [
    "def regression_lost_function(X, y, theta):\n",
    "    \"\"\"\n",
    "    Compute cost for linear regression. Computes the cost of using theta as the\n",
    "    parameter for linear regression to fit the data points in X and y.\n",
    "\n",
    "    Parameters\n",
    "    ----------\n",
    "    X : array_like\n",
    "        The input dataset of shape (m * n+1), where m is the number of examples,\n",
    "        and n is the number of features. We assume a vector of one's already\n",
    "        appended to the features so we have n+1 columns.\n",
    "\n",
    "    y : array_like\n",
    "        The values of the function at each data point. This is a vector of\n",
    "        shape (m, ).\n",
    "\n",
    "    theta : array_like \n",
    "        The parameters for the regression function. This is a vector of\n",
    "        shape (n+1, ).\n",
    "        舉例而言 只有一個X的狀況，\n",
    "\n",
    "    Returns\n",
    "    -------\n",
    "    loss : float\n",
    "        The value of the regression cost function.\n",
    "\n",
    "    Instructions\n",
    "    ------------\n",
    "    Compute the cost of a particular choice of theta.\n",
    "    You should set J to the cost.\n",
    "    \"\"\"\n",
    "\n",
    "    # initialize some useful values\n",
    "    m = y.size  # number of training examples\n",
    "\n",
    "    # You need to return the following variables correctly\n",
    "    loss = None\n",
    "\n",
    "    # ====================== YOUR CODE HERE =====================\n",
    "    # HINT: FIRSTS TIME THE FEATURE X WITH THETA1, THEN PLUS THETA0. THE SQUARE ERROR SHOULD BE THE DIFFERENCE BETWEEN PREDICTION AND THE TARGET Y, TAKE NP.SQUARE, AND TAKE THE AVERAGE (NP,SUM) THEN OVER 2 * M\n",
    "    predicted_result= X*theta[1] + theta[0]\n",
    "    y_diff = (predicted_result - y)\n",
    "    \n",
    "    loss = np.sum(np.square(y_diff))/(2*m)\n",
    "\n",
    "    # ===========================================================\n",
    "    return loss"
   ]
  },
  {
   "cell_type": "code",
   "execution_count": 35,
   "metadata": {},
   "outputs": [
    {
     "data": {
      "text/plain": [
       "array([1.1, 0.5, 1.9, 0.2, 1. , 1.8, 1.2, 0.1, 0.2, 1.4, 0.3, 1.5, 2.3,\n",
       "       2.4, 1.5, 0.2, 1.5, 0.2, 1.9, 2.3, 1.6, 2.3, 1.3, 2.5, 0.2, 0.3,\n",
       "       0.1, 1.5, 0.2, 0.2, 0.4, 1.9, 0.2, 0.2, 1.8, 1.8, 0.2, 0.2, 1.8,\n",
       "       2.5, 2. , 0.2, 1. , 2.3, 0.3, 0.1, 1.5, 2.1, 0.4, 1.3, 0.3, 1.7,\n",
       "       2.2, 0.2, 1.8, 1.6, 1.5, 2.1, 0.2, 2.1, 0.2, 1.3, 1.5, 0.2, 1. ,\n",
       "       0.2, 2.4, 1.2, 2.1, 0.2, 2.5, 1.8, 1.8, 1.4, 0.2, 0.3, 2. , 1.5,\n",
       "       0.4, 1.4, 2. , 2.3, 1.9, 1.6, 0.2, 2.3, 0.4, 2. , 1. , 2.3, 2.2,\n",
       "       0.3, 1.8, 1.4, 1.3, 1.4, 1.8, 1. , 0.2, 1.2])"
      ]
     },
     "execution_count": 35,
     "metadata": {},
     "output_type": "execute_result"
    }
   ],
   "source": [
    "X_train"
   ]
  },
  {
   "cell_type": "code",
   "execution_count": 36,
   "metadata": {
    "jupyter": {
     "outputs_hidden": false
    },
    "pycharm": {
     "name": "#%%\n"
    }
   },
   "outputs": [
    {
     "name": "stdout",
     "output_type": "stream",
     "text": [
      "With theta = [0, 0] \n",
      "Cost computed = 8.82\n",
      "Expected cost value (approximately) 8.82\n",
      "\n",
      "With theta = [-1, 2]\n",
      "Cost computed = 2.89\n",
      "Expected cost value (approximately) 2.89\n"
     ]
    }
   ],
   "source": [
    "J = regression_lost_function(X_train, y_train, theta=np.array([0.0, 0.0]))\n",
    "print('With theta = [0, 0] \\nCost computed = %.2f' % J)\n",
    "print('Expected cost value (approximately) 8.82\\n')\n",
    "\n",
    "# further testing of the cost function\n",
    "J = regression_lost_function(X_train, y_train, theta=np.array([-1, 2]))\n",
    "print('With theta = [-1, 2]\\nCost computed = %.2f' % J)\n",
    "print('Expected cost value (approximately) 2.89')"
   ]
  },
  {
   "cell_type": "code",
   "execution_count": 43,
   "metadata": {
    "jupyter": {
     "outputs_hidden": false
    },
    "pycharm": {
     "name": "#%%\n"
    }
   },
   "outputs": [],
   "source": [
    "def gradientDescent(X, y, theta, learning_rate, num_iters):  # 製作梯度下降\n",
    "    \"\"\"\n",
    "    Performs gradient descent to learn `theta`. Updates theta by taking `num_iters`\n",
    "    gradient steps with learning rate `alpha`.\n",
    "\n",
    "    Parameters\n",
    "    ----------\n",
    "    X : array_like\n",
    "        The input dataset of shape (m x n+1).\n",
    "\n",
    "    y : array_like\n",
    "        Value at given features. A vector of shape (m, ).\n",
    "\n",
    "    theta : array_like\n",
    "        Initial values for the linear regression parameters.\n",
    "        A vector of shape (n+1, ).\n",
    "\n",
    "    learning_rate : float\n",
    "        The learning rate.\n",
    "\n",
    "    num_iters : int\n",
    "        The number of iterations for gradient descent.\n",
    "\n",
    "    Returns\n",
    "    -------\n",
    "    theta : array_like\n",
    "        The learned linear regression parameters. A vector of shape (n+1, ).\n",
    "\n",
    "    loss_history : list\n",
    "        A python list for the values of the cost function after each iteration.\n",
    "\n",
    "    theta_history : list\n",
    "        A python list for the values of the parameters after each iteration.\n",
    "\n",
    "    Instructions\n",
    "    ------------\n",
    "    Peform a single gradient step on the parameter vector theta.\n",
    "\n",
    "    While debugging, it can be useful to print out the values of\n",
    "    the cost function (computeCost) and gradient here.\n",
    "    \"\"\"\n",
    "    # Initialize some useful values\n",
    "    m = y.shape[0]  # number of training examples \n",
    "\n",
    "    # make a copy of theta, to avoid changing the original array, since numpy arrays\n",
    "    # are passed by reference to functions\n",
    "    theta = theta.copy()  #這邊在方程式內要多一步copy，因為這邊若不複製一樣本，會指涉原來丟入function的那個theta。\n",
    "\n",
    "    loss_history = [] # Use a python list to save cost in every iteration\n",
    "    theta_history = []\n",
    "\n",
    "    for i in range(num_iters):\n",
    "        # ==================== YOUR CODE HERE =================================\n",
    "        # HINT: USE NP.MULTIPLY FOR ELEMENT-WISE MULTIPLICATION\n",
    "        # FIRST YOU WANT TO CALCULATE THE VALUE OF PREDICTION, h =  (X*θ_1 + θ_0),\n",
    "        # THEN THE DIFFERENCE h BETWEEN PREDICTION AND TARGET, diff = h - y\n",
    "        # THEN ∂loss/∂θ_1 = 2 * X * (h - y) 這邊用到微分連鎖率\n",
    "        # THEN ∂loss/∂θ_0 = 2 * (h - y) 這邊用到微分連鎖率\n",
    "        # THEN ∂θ_1(NEW) = ∂θ_1(OLD) - learning / 2m * ∂loss/∂θ_1\n",
    "        # THEN ∂θ_0(NEW) = ∂θ_0(OLD) - learning / 2m * ∂loss/∂θ_0\n",
    "        # =====================================================================\n",
    "        h = X* theta[1] + theta[0] # prediction 值 h\n",
    "        y_diff  = h-y\n",
    "        \n",
    "        loss_diff_theta_1 = np.sum(2 * X * (y_diff))\n",
    "        loss_diff_theta_0 = np.sum(2 * (y_diff))\n",
    "        \n",
    "        theta[1] = theta[1] - (learning_rate/(2*m)) * loss_diff_theta_1\n",
    "        theta[0] = theta[0] - (learning_rate/(2*m)) * loss_diff_theta_0\n",
    "\n",
    "        # save the cost J in every iteration\n",
    "        loss_history.append(regression_lost_function(X, y, theta))\n",
    "        theta_history.append(theta.copy())\n",
    "\n",
    "    theta_history = np.stack(theta_history, 1)\n",
    "    return theta, loss_history, theta_history"
   ]
  },
  {
   "cell_type": "markdown",
   "metadata": {
    "pycharm": {
     "name": "#%% md\n"
    }
   },
   "source": [
    "Now let's use gradient descent to optimize the linear regression function. We will start theta with two zeros (theta = np.zeros(2)) and optimize the value from there. Does your result match the one we have ealier using scikit-learn?"
   ]
  },
  {
   "cell_type": "code",
   "execution_count": 44,
   "metadata": {
    "jupyter": {
     "outputs_hidden": false
    },
    "pycharm": {
     "name": "#%%\n"
    }
   },
   "outputs": [
    {
     "name": "stdout",
     "output_type": "stream",
     "text": [
      "Theta found by gradient descent: 1.1286, 2.1856\n",
      "Expected theta values (approximately): [1.1286, 2.1856]\n"
     ]
    },
    {
     "data": {
      "image/png": "[encoded data removed]",
      "text/plain": [
       "<Figure size 432x288 with 1 Axes>"
      ]
     },
     "metadata": {
      "needs_background": "light"
     },
     "output_type": "display_data"
    }
   ],
   "source": [
    "import numpy as np\n",
    "# initialize fitting parameters\n",
    "theta = np.zeros(2)\n",
    "\n",
    "# some gradient descent settings\n",
    "iterations = 1500\n",
    "learning_rate = 0.01\n",
    "\n",
    "theta, loss_history, theta_history = gradientDescent(X_train ,y_train, theta, learning_rate, iterations)\n",
    "print('Theta found by gradient descent: {:.4f}, {:.4f}'.format(*theta))\n",
    "print('Expected theta values (approximately): [1.1286, 2.1856]')\n",
    "\n",
    "plt.scatter(X_train, y_train, color='red', marker='o', label='train')\n",
    "plt.scatter(X_test, y_test, color='blue', marker='o', label='test')\n",
    "plt.plot(X_test, np.dot(X_test, theta[1]) + theta[0], color='green', label='test_prediction')\n",
    "plt.legend()#['Training data', 'Linear regression']);\n",
    "plt.show()"
   ]
  },
  {
   "cell_type": "markdown",
   "metadata": {
    "pycharm": {
     "name": "#%% md\n"
    }
   },
   "source": [
    "Let's plot the parameters over the optimization step. What will happen if you change the learning rate earlier?"
   ]
  },
  {
   "cell_type": "code",
   "execution_count": 45,
   "metadata": {
    "jupyter": {
     "outputs_hidden": false
    },
    "pycharm": {
     "name": "#%%\n"
    }
   },
   "outputs": [
    {
     "data": {
      "image/png": "[encoded data removed]",
      "text/plain": [
       "<Figure size 432x288 with 1 Axes>"
      ]
     },
     "metadata": {
      "needs_background": "light"
     },
     "output_type": "display_data"
    },
    {
     "data": {
      "image/png": "[encoded data removed]",
      "text/plain": [
       "<Figure size 432x288 with 1 Axes>"
      ]
     },
     "metadata": {
      "needs_background": "light"
     },
     "output_type": "display_data"
    }
   ],
   "source": [
    "steps = np.linspace(0, 1500, 1500)\n",
    "plt.plot(steps, theta_history[0,:])\n",
    "plt.xlabel('Steps')\n",
    "plt.ylabel('theta_0')\n",
    "plt.show()\n",
    "plt.plot(steps, theta_history[1,:])\n",
    "plt.xlabel('Steps')\n",
    "plt.ylabel('theta_1')\n",
    "plt.show()"
   ]
  },
  {
   "cell_type": "code",
   "execution_count": 46,
   "metadata": {
    "jupyter": {
     "outputs_hidden": false
    },
    "pycharm": {
     "name": "#%%\n"
    }
   },
   "outputs": [
    {
     "data": {
      "image/png": "[encoded data removed]",
      "text/plain": [
       "<Figure size 432x288 with 1 Axes>"
      ]
     },
     "metadata": {
      "needs_background": "light"
     },
     "output_type": "display_data"
    }
   ],
   "source": [
    "# How about the history of loss?\n",
    "plt.plot(steps, loss_history)\n",
    "plt.xlabel('Steps')\n",
    "plt.ylabel('loss')\n",
    "plt.show()"
   ]
  },
  {
   "cell_type": "code",
   "execution_count": null,
   "metadata": {
    "jupyter": {
     "outputs_hidden": false
    },
    "pycharm": {
     "name": "#%%\n"
    }
   },
   "outputs": [],
   "source": []
  }
 ],
 "metadata": {
  "kernelspec": {
   "display_name": "Python 3 (ipykernel)",
   "language": "python",
   "name": "python3"
  },
  "language_info": {
   "codemirror_mode": {
    "name": "ipython",
    "version": 3
   },
   "file_extension": ".py",
   "mimetype": "text/x-python",
   "name": "python",
   "nbconvert_exporter": "python",
   "pygments_lexer": "ipython3",
   "version": "3.9.7"
  }
 },
 "nbformat": 4,
 "nbformat_minor": 4
}
