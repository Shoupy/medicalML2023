{
 "cells": [
  {
   "cell_type": "markdown",
   "metadata": {
    "pycharm": {
     "name": "#%% md\n"
    }
   },
   "source": [
    "First, download medical_mnist.zip from Kaggle\n",
    "https://www.kaggle.com/datasets/andrewmvd/medical-mnist\n",
    "or from dropbox\n",
    "https://www.dropbox.com/scl/fi/wql10vir4zk5mppc88nl8/medical_mnist.zip?rlkey=majqo92r2g5uejqmsnmlo0l5j&dl=0\n",
    "unzip the data to Exercise2 / mmnist/\n",
    "\n",
    "import all the helper functions"
   ]
  },
  {
   "cell_type": "code",
   "execution_count": 1,
   "metadata": {
    "jupyter": {
     "outputs_hidden": false
    },
    "pycharm": {
     "name": "#%%\n"
    }
   },
   "outputs": [],
   "source": [
    "from utils_mnist import *\n",
    "import numpy as np"
   ]
  },
  {
   "cell_type": "code",
   "execution_count": 2,
   "metadata": {
    "jupyter": {
     "outputs_hidden": false
    },
    "pycharm": {
     "name": "#%%\n"
    }
   },
   "outputs": [],
   "source": [
    "class Trainer():  #Trainer class 用來訓練用的\n",
    "    def __init__(self, args, train_loader, validation_loader, model, loss_function, optimizer):\n",
    "        pass\n",
    "\n",
    "    def overall_loop(self):\n",
    "        for epoch in range(args['num_epochs']):\n",
    "            train_loss = self.training_loop(train_loader)  # do the training look\n",
    "            validation_loss = self.validation_loop(validation_loader) # do the validation loop\n",
    "            # print out the training and validation loss per epoch\n",
    "            print('Epoch [{}/{}], Train Loss: {:.4f}, Validation Loss: {:.4f}'\n",
    "                  .format(epoch + 1, args['num_epochs'],\n",
    "                          sum(train_loss) / len(train_loss), sum(validation_loss) / len(validation_loss)))\n",
    "\n",
    "    def training_loop(self, train_loader):\n",
    "        train_loss = []\n",
    "        for i, train_batch in enumerate(train_loader):  # get mini-bacthes from the train_loader\n",
    "            loss = self.training_step(train_batch) # get the train loss from the train_step\n",
    "        train_loss.append(loss.item()) # add the train_loss up\n",
    "        return train_loss\n",
    "\n",
    "    def validation_loop(self, validation_loader):\n",
    "        validation_loss = []\n",
    "        for i, validation_batch in enumerate(validation_loader):\n",
    "            loss = self.validation_step(validation_batch)\n",
    "        validation_loss.append(loss.item())\n",
    "        return validation_loss\n",
    "\n",
    "    def training_step(self, train_batch):\n",
    "        (images, labels) = train_batch\n",
    "        images = images.reshape(-1, args['img_size'])  # turn the 2D image to a 1D feature (flatten)\n",
    "\n",
    "        # Forward pass\n",
    "        outputs = model(images)  # get the model output\n",
    "        loss = loss_function(outputs, labels) # calculate the loss\n",
    "\n",
    "        # Magic section where we do optimization by backpropogation\n",
    "        optimizer.zero_grad()\n",
    "        loss.backward()\n",
    "        optimizer.step()\n",
    "        return loss\n",
    "\n",
    "    def validation_step(self, validation_batch):\n",
    "        ###\n",
    "        loss = 0  #如果甚麼都不寫也可回傳。\n",
    "        # YOUR CODE HERE\n",
    "        # Borrow the lines from the training_step function to calculate the validation loss, but no optimization!\n",
    "        (images, labels) = validation_batch\n",
    "        images = images.reshape(-1, args['img_size'])  # turn the 2D image to a 1D feature (flatten)\n",
    "\n",
    "        # Forward pass\n",
    "        outputs = model(images)  # get the model output\n",
    "        loss = loss_function(outputs, labels) # calculate the loss\n",
    "        ###\n",
    "        \n",
    "        return loss"
   ]
  },
  {
   "cell_type": "markdown",
   "metadata": {
    "pycharm": {
     "name": "#%% md\n"
    }
   },
   "source": [
    "define all the arguments (hyperparameters)"
   ]
  },
  {
   "cell_type": "code",
   "execution_count": 3,
   "metadata": {
    "jupyter": {
     "outputs_hidden": false
    },
    "pycharm": {
     "name": "#%%\n"
    }
   },
   "outputs": [
    {
     "name": "stdout",
     "output_type": "stream",
     "text": [
      "{'img_size': 4096, 'num_classes': 10, 'num_epochs': 50, 'batch_size': 16, 'learning_rate': 0.001, 'model': 'logistic_regression'}\n"
     ]
    }
   ],
   "source": [
    "# arguments\n",
    "def get_arguments():\n",
    "    # Hyper-parameters\n",
    "    args = {'img_size': 64 * 64,\n",
    "            'num_classes': 10,\n",
    "            'num_epochs': 50,\n",
    "            'batch_size': 16,\n",
    "            'learning_rate': 0.001,\n",
    "            'model': 'logistic_regression'} # MLP or logistic_regression\n",
    "    return args\n",
    "\n",
    "args = get_arguments()\n",
    "print(args)"
   ]
  },
  {
   "cell_type": "code",
   "execution_count": 4,
   "metadata": {
    "jupyter": {
     "outputs_hidden": false
    },
    "pycharm": {
     "name": "#%%\n"
    }
   },
   "outputs": [
    {
     "name": "stdout",
     "output_type": "stream",
     "text": [
      "data folder:  mmnist/\n",
      "['mmnist\\\\AbdomenCT', 'mmnist\\\\BreastMRI', 'mmnist\\\\CXR', 'mmnist\\\\ChestCT']\n",
      "length of all images: 28000\n",
      "['mmnist\\\\AbdomenCT', 'mmnist\\\\BreastMRI', 'mmnist\\\\CXR', 'mmnist\\\\ChestCT']\n",
      "length of all images: 10218\n",
      "Done with data preparation\n"
     ]
    }
   ],
   "source": [
    "# Medical MNIST dataset (images and labels)\n",
    "train_loader, validation_loader = get_medical_mnist(args=args)\n",
    "print('Done with data preparation')"
   ]
  },
  {
   "cell_type": "code",
   "execution_count": 5,
   "metadata": {
    "jupyter": {
     "outputs_hidden": false
    },
    "pycharm": {
     "name": "#%%\n"
    }
   },
   "outputs": [
    {
     "name": "stdout",
     "output_type": "stream",
     "text": [
      "Length of train dataset:\n",
      "28000\n",
      "Length of validation dataset:\n",
      "10218\n",
      "Length of train dataloader:\n",
      "1750\n",
      "Length of validation dataloader:\n",
      "639\n",
      "Why is that?\n"
     ]
    }
   ],
   "source": [
    "print('Length of train dataset:')\n",
    "print(len(train_loader.dataset))\n",
    "print('Length of validation dataset:')\n",
    "print(len(validation_loader.dataset))\n",
    "print('Length of train dataloader:')\n",
    "print(len(train_loader))\n",
    "print('Length of validation dataloader:')\n",
    "print(len(validation_loader))\n",
    "print('Why is that?')"
   ]
  },
  {
   "cell_type": "markdown",
   "metadata": {
    "pycharm": {
     "name": "#%% md\n"
    }
   },
   "source": [
    "Let's look at some images"
   ]
  },
  {
   "cell_type": "code",
   "execution_count": 6,
   "metadata": {
    "jupyter": {
     "outputs_hidden": false
    },
    "pycharm": {
     "name": "#%%\n"
    }
   },
   "outputs": [
    {
     "data": {
      "image/png": "[encoded data removed]",
      "text/plain": [
       "<Figure size 1440x288 with 5 Axes>"
      ]
     },
     "metadata": {
      "needs_background": "light"
     },
     "output_type": "display_data"
    }
   ],
   "source": [
    "some_index = np.random.randint(0, len(train_loader.dataset), 10)\n",
    "some_imgs = [train_loader.dataset.__getitem__(idx)[0] for idx in some_index]\n",
    "some_labels = [train_loader.dataset.__getitem__(idx)[1] for idx in some_index]\n",
    "\n",
    "show_examples(some_imgs[:5], some_labels[:5])"
   ]
  },
  {
   "cell_type": "code",
   "execution_count": 7,
   "metadata": {
    "jupyter": {
     "outputs_hidden": false
    },
    "pycharm": {
     "name": "#%%\n"
    }
   },
   "outputs": [
    {
     "name": "stdout",
     "output_type": "stream",
     "text": [
      "Using logistic regression\n"
     ]
    }
   ],
   "source": [
    "# get model\n",
    "if args['model'] == 'logistic_regression':\n",
    "    print('Using logistic regression')\n",
    "    model = nn.Linear(args['img_size'], args['num_classes'])\n",
    "elif args['model'] == 'MLP':\n",
    "    print('MLP')\n",
    "    model = MLP(dropout=0, hidden_1=512, hidden_2=512)"
   ]
  },
  {
   "cell_type": "code",
   "execution_count": 8,
   "metadata": {
    "jupyter": {
     "outputs_hidden": false
    },
    "pycharm": {
     "name": "#%%\n"
    }
   },
   "outputs": [],
   "source": [
    "# Loss and optimizer\n",
    "loss_function = nn.CrossEntropyLoss() # this combined the LogSoftmax and NLLLoss\n",
    "optimizer = torch.optim.SGD(model.parameters(), lr=args['learning_rate'])"
   ]
  },
  {
   "cell_type": "markdown",
   "metadata": {
    "pycharm": {
     "name": "#%% md\n"
    }
   },
   "source": [
    "Lets build the trainer together"
   ]
  },
  {
   "cell_type": "code",
   "execution_count": 9,
   "metadata": {
    "pycharm": {
     "name": "#%%\n"
    }
   },
   "outputs": [],
   "source": [
    "trainer = Trainer(args, train_loader, validation_loader, model, loss_function, optimizer)"
   ]
  },
  {
   "cell_type": "markdown",
   "metadata": {
    "pycharm": {
     "name": "#%% md\n"
    }
   },
   "source": [
    "Start the training!"
   ]
  },
  {
   "cell_type": "code",
   "execution_count": 10,
   "metadata": {
    "jupyter": {
     "outputs_hidden": false
    },
    "pycharm": {
     "name": "#%%\n"
    }
   },
   "outputs": [
    {
     "name": "stdout",
     "output_type": "stream",
     "text": [
      "Epoch [1/50], Train Loss: 0.2854, Validation Loss: 0.3468\n",
      "Epoch [2/50], Train Loss: 0.2269, Validation Loss: 0.1855\n",
      "Epoch [3/50], Train Loss: 0.0987, Validation Loss: 0.1235\n",
      "Epoch [4/50], Train Loss: 0.1559, Validation Loss: 0.1309\n",
      "Epoch [5/50], Train Loss: 0.0371, Validation Loss: 0.1010\n",
      "Epoch [6/50], Train Loss: 0.0965, Validation Loss: 0.0772\n",
      "Epoch [7/50], Train Loss: 0.0895, Validation Loss: 0.0641\n",
      "Epoch [8/50], Train Loss: 0.0436, Validation Loss: 0.0674\n",
      "Epoch [9/50], Train Loss: 0.0483, Validation Loss: 0.0598\n",
      "Epoch [10/50], Train Loss: 0.0499, Validation Loss: 0.0570\n",
      "Epoch [11/50], Train Loss: 0.0412, Validation Loss: 0.0596\n",
      "Epoch [12/50], Train Loss: 0.0732, Validation Loss: 0.0567\n",
      "Epoch [13/50], Train Loss: 0.0276, Validation Loss: 0.0582\n",
      "Epoch [14/50], Train Loss: 0.0178, Validation Loss: 0.0490\n",
      "Epoch [15/50], Train Loss: 0.0369, Validation Loss: 0.0474\n",
      "Epoch [16/50], Train Loss: 0.0609, Validation Loss: 0.0497\n",
      "Epoch [17/50], Train Loss: 0.0262, Validation Loss: 0.0411\n",
      "Epoch [18/50], Train Loss: 0.0195, Validation Loss: 0.0466\n",
      "Epoch [19/50], Train Loss: 0.0756, Validation Loss: 0.0468\n",
      "Epoch [20/50], Train Loss: 0.0429, Validation Loss: 0.0413\n",
      "Epoch [21/50], Train Loss: 0.0469, Validation Loss: 0.0436\n",
      "Epoch [22/50], Train Loss: 0.0193, Validation Loss: 0.0330\n",
      "Epoch [23/50], Train Loss: 0.0313, Validation Loss: 0.0356\n",
      "Epoch [24/50], Train Loss: 0.0619, Validation Loss: 0.0346\n",
      "Epoch [25/50], Train Loss: 0.0332, Validation Loss: 0.0323\n",
      "Epoch [26/50], Train Loss: 0.0609, Validation Loss: 0.0305\n",
      "Epoch [27/50], Train Loss: 0.0743, Validation Loss: 0.0316\n",
      "Epoch [28/50], Train Loss: 0.0277, Validation Loss: 0.0308\n",
      "Epoch [29/50], Train Loss: 0.0268, Validation Loss: 0.0351\n",
      "Epoch [30/50], Train Loss: 0.0463, Validation Loss: 0.0344\n",
      "Epoch [31/50], Train Loss: 0.0588, Validation Loss: 0.0290\n",
      "Epoch [32/50], Train Loss: 0.0090, Validation Loss: 0.0269\n",
      "Epoch [33/50], Train Loss: 0.0435, Validation Loss: 0.0246\n",
      "Epoch [34/50], Train Loss: 0.1889, Validation Loss: 0.0291\n",
      "Epoch [35/50], Train Loss: 0.0109, Validation Loss: 0.0311\n",
      "Epoch [36/50], Train Loss: 0.0159, Validation Loss: 0.0271\n",
      "Epoch [37/50], Train Loss: 0.0772, Validation Loss: 0.0236\n",
      "Epoch [38/50], Train Loss: 0.0282, Validation Loss: 0.0291\n",
      "Epoch [39/50], Train Loss: 0.0104, Validation Loss: 0.0214\n",
      "Epoch [40/50], Train Loss: 0.0170, Validation Loss: 0.0223\n",
      "Epoch [41/50], Train Loss: 0.0156, Validation Loss: 0.0248\n",
      "Epoch [42/50], Train Loss: 0.0330, Validation Loss: 0.0233\n",
      "Epoch [43/50], Train Loss: 0.0366, Validation Loss: 0.0253\n",
      "Epoch [44/50], Train Loss: 0.0264, Validation Loss: 0.0304\n",
      "Epoch [45/50], Train Loss: 0.0173, Validation Loss: 0.0258\n",
      "Epoch [46/50], Train Loss: 0.0307, Validation Loss: 0.0246\n",
      "Epoch [47/50], Train Loss: 0.0200, Validation Loss: 0.0247\n",
      "Epoch [48/50], Train Loss: 0.0205, Validation Loss: 0.0198\n",
      "Epoch [49/50], Train Loss: 0.0295, Validation Loss: 0.0229\n",
      "Epoch [50/50], Train Loss: 0.0065, Validation Loss: 0.0190\n"
     ]
    }
   ],
   "source": [
    "trainer.overall_loop()"
   ]
  },
  {
   "cell_type": "markdown",
   "metadata": {
    "pycharm": {
     "name": "#%% md\n"
    }
   },
   "source": [
    "Calculating validation accuracy"
   ]
  },
  {
   "cell_type": "code",
   "execution_count": 14,
   "metadata": {},
   "outputs": [
    {
     "ename": "TypeError",
     "evalue": "'DataLoader' object is not subscriptable",
     "output_type": "error",
     "traceback": [
      "\u001b[1;31m---------------------------------------------------------------------------\u001b[0m",
      "\u001b[1;31mTypeError\u001b[0m                                 Traceback (most recent call last)",
      "\u001b[1;32m~\\AppData\\Local\\Temp/ipykernel_14872/1997094869.py\u001b[0m in \u001b[0;36m<module>\u001b[1;34m\u001b[0m\n\u001b[1;32m----> 1\u001b[1;33m \u001b[0mvalidation_loader\u001b[0m\u001b[1;33m[\u001b[0m\u001b[1;33m[\u001b[0m\u001b[1;36m0\u001b[0m\u001b[1;33m]\u001b[0m\u001b[1;33m]\u001b[0m\u001b[1;33m\u001b[0m\u001b[1;33m\u001b[0m\u001b[0m\n\u001b[0m",
      "\u001b[1;31mTypeError\u001b[0m: 'DataLoader' object is not subscriptable"
     ]
    }
   ],
   "source": []
  },
  {
   "cell_type": "code",
   "execution_count": 43,
   "metadata": {
    "pycharm": {
     "name": "#%%\n"
    }
   },
   "outputs": [
    {
     "name": "stdout",
     "output_type": "stream",
     "text": [
      "10054\n",
      "10218\n",
      "Accuracy of the model on the 10000 test images: 98.39498923468389 %\n"
     ]
    }
   ],
   "source": [
    "correct = 0\n",
    "total = 0\n",
    "for images, labels in validation_loader:\n",
    "    images = images.reshape(-1, args['img_size'])\n",
    "    outputs = model(images)\n",
    "   \n",
    "    ##### YOUR CODE HERE\n",
    "    # print(outputs.data)\n",
    "    predicted = torch.max(outputs.data, 1)  #torchmax 輸出 10個class中最大機率的那一籃index。 \n",
    "    # dimension 第一維，第0維是loader一個batch裡面的Case   第1維是該Case裡面對不同class預測的機率高低\n",
    "    # print(predicted)\n",
    "    # print(labels)\n",
    "    \n",
    "    correct += torch.sum(predicted.indices == labels).item()\n",
    "    total += labels.size(0) #這一輪的總case數\n",
    "    #XXXXXX = torch.max(outputs.data, 1)\n",
    "    #total += XXXXXX\n",
    "    #correct += XXXXXX\n",
    "    ##### YOUR CODE HERE\n",
    "print(correct)\n",
    "print(total)\n",
    "\n",
    "print('Accuracy of the model on the 10000 test images: {} %'.format(100 * correct / total))"
   ]
  },
  {
   "cell_type": "code",
   "execution_count": 29,
   "metadata": {},
   "outputs": [
    {
     "data": {
      "text/plain": [
       "tensor([0, 0, 0, 0, 0, 0, 0, 0, 0, 0, 0, 0, 0, 0, 0, 0])"
      ]
     },
     "execution_count": 29,
     "metadata": {},
     "output_type": "execute_result"
    }
   ],
   "source": [
    "predicted.indices"
   ]
  },
  {
   "cell_type": "code",
   "execution_count": 39,
   "metadata": {},
   "outputs": [
    {
     "data": {
      "text/plain": [
       "16"
      ]
     },
     "execution_count": 39,
     "metadata": {},
     "output_type": "execute_result"
    }
   ],
   "source": [
    "predicted.indices.size(0)"
   ]
  },
  {
   "cell_type": "code",
   "execution_count": 41,
   "metadata": {
    "pycharm": {
     "name": "#%%\n"
    }
   },
   "outputs": [
    {
     "data": {
      "text/plain": [
       "16"
      ]
     },
     "execution_count": 41,
     "metadata": {},
     "output_type": "execute_result"
    }
   ],
   "source": [
    "\n",
    "torch.sum(predicted.indices == labels).item()"
   ]
  }
 ],
 "metadata": {
  "kernelspec": {
   "display_name": "Python 3 (ipykernel)",
   "language": "python",
   "name": "python3"
  },
  "language_info": {
   "codemirror_mode": {
    "name": "ipython",
    "version": 3
   },
   "file_extension": ".py",
   "mimetype": "text/x-python",
   "name": "python",
   "nbconvert_exporter": "python",
   "pygments_lexer": "ipython3",
   "version": "3.9.7"
  }
 },
 "nbformat": 4,
 "nbformat_minor": 4
}
